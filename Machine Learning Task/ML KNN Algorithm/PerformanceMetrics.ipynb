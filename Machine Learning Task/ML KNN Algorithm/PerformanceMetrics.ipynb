{
 "cells": [
  {
   "cell_type": "code",
   "execution_count": 1,
   "metadata": {},
   "outputs": [
    {
     "output_type": "stream",
     "name": "stdout",
     "text": [
      "Confusion Matrix :\n[[3 3]\n [1 3]]\nAccuracy Score is 0.6\nClassification Report : \n              precision    recall  f1-score   support\n\n           0       0.75      0.50      0.60         6\n           1       0.50      0.75      0.60         4\n\n    accuracy                           0.60        10\n   macro avg       0.62      0.62      0.60        10\nweighted avg       0.65      0.60      0.60        10\n\nAUC-ROC: 0.625\nLOGLOSS Value is 13.815750437193334\n"
     ]
    }
   ],
   "source": [
    "#Example1\n",
    "from sklearn.metrics import confusion_matrix\n",
    "from sklearn.metrics import accuracy_score\n",
    "from sklearn.metrics import classification_report\n",
    "from sklearn.metrics import roc_auc_score\n",
    "from sklearn.metrics import log_loss\n",
    "X_actual = [1, 1, 0, 1, 0, 0, 1, 0, 0, 0]\n",
    "Y_predic = [1, 0, 1, 1, 1, 0, 1, 1, 0, 0]\n",
    "results = confusion_matrix(X_actual, Y_predic)\n",
    "print ('Confusion Matrix :')\n",
    "print(results)\n",
    "print ('Accuracy Score is',accuracy_score(X_actual, Y_predic))\n",
    "print ('Classification Report : ')\n",
    "print (classification_report(X_actual, Y_predic))\n",
    "print('AUC-ROC:',roc_auc_score(X_actual, Y_predic))\n",
    "print('LOGLOSS Value is',log_loss(X_actual, Y_predic))"
   ]
  },
  {
   "cell_type": "code",
   "execution_count": 2,
   "metadata": {},
   "outputs": [
    {
     "output_type": "stream",
     "name": "stdout",
     "text": [
      "R Squared = 0.9656060606060606\nMAE = 0.42499999999999993\nMSE = 0.5674999999999999\n"
     ]
    }
   ],
   "source": [
    "#Example 2\n",
    "from sklearn.metrics import r2_score\n",
    "from sklearn.metrics import mean_absolute_error\n",
    "from sklearn.metrics import mean_squared_error\n",
    "X_actual = [5, -1, 2, 10]\n",
    "Y_predic = [3.5, -0.9, 2, 9.9]\n",
    "print ('R Squared =',r2_score(X_actual, Y_predic))\n",
    "print ('MAE =',mean_absolute_error(X_actual, Y_predic))\n",
    "print ('MSE =',mean_squared_error(X_actual, Y_predic))"
   ]
  },
  {
   "cell_type": "code",
   "execution_count": null,
   "metadata": {},
   "outputs": [],
   "source": []
  }
 ],
 "metadata": {
  "kernelspec": {
   "display_name": "Python 3",
   "language": "python",
   "name": "python3"
  },
  "language_info": {
   "codemirror_mode": {
    "name": "ipython",
    "version": 3
   },
   "file_extension": ".py",
   "mimetype": "text/x-python",
   "name": "python",
   "nbconvert_exporter": "python",
   "pygments_lexer": "ipython3",
   "version": "3.7.4-final"
  }
 },
 "nbformat": 4,
 "nbformat_minor": 4
}