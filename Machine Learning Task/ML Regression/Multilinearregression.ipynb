{
 "cells": [
  {
   "cell_type": "code",
   "execution_count": 1,
   "metadata": {},
   "outputs": [],
   "source": [
    "%matplotlib inline\n",
    "import matplotlib.pyplot as plt\n",
    "import numpy as np\n",
    "from sklearn import datasets, linear_model\n",
    "from sklearn.metrics import mean_squared_error, r2_score"
   ]
  },
  {
   "cell_type": "code",
   "execution_count": 2,
   "metadata": {},
   "outputs": [
    {
     "output_type": "stream",
     "name": "stdout",
     "text": [
      "Coefficients: \n [941.43097333]\nMean squared error: 3035.06\nVariance score: 0.41\n"
     ]
    }
   ],
   "source": [
    "diabetes = datasets.load_diabetes()\n",
    "X = diabetes.data[:, np.newaxis, 2]\n",
    "X_train = X[:-30]\n",
    "X_test = X[-30:]\n",
    "y_train = diabetes.target[:-30]\n",
    "y_test = diabetes.target[-30:]\n",
    "regr = linear_model.LinearRegression()\n",
    "regr.fit(X_train, y_train)\n",
    "y_pred = regr.predict(X_test)\n",
    "print('Coefficients: \\n', regr.coef_)\n",
    "print(\"Mean squared error: %.2f\" % mean_squared_error(y_test, y_pred))\n",
    "print('Variance score: %.2f' % r2_score(y_test, y_pred))"
   ]
  },
  {
   "cell_type": "code",
   "execution_count": 3,
   "metadata": {},
   "outputs": [
    {
     "output_type": "display_data",
     "data": {
      "text/plain": "<Figure size 432x288 with 1 Axes>",
      "image/svg+xml": "<?xml version=\"1.0\" encoding=\"utf-8\" standalone=\"no\"?>\r\n<!DOCTYPE svg PUBLIC \"-//W3C//DTD SVG 1.1//EN\"\r\n  \"http://www.w3.org/Graphics/SVG/1.1/DTD/svg11.dtd\">\r\n<!-- Created with matplotlib (https://matplotlib.org/) -->\r\n<svg height=\"235.34pt\" version=\"1.1\" viewBox=\"0 0 352.7 235.34\" width=\"352.7pt\" xmlns=\"http://www.w3.org/2000/svg\" xmlns:xlink=\"http://www.w3.org/1999/xlink\">\r\n <defs>\r\n  <style type=\"text/css\">\r\n*{stroke-linecap:butt;stroke-linejoin:round;}\r\n  </style>\r\n </defs>\r\n <g id=\"figure_1\">\r\n  <g id=\"patch_1\">\r\n   <path d=\"M 0 235.34 \r\nL 352.7 235.34 \r\nL 352.7 0 \r\nL 0 0 \r\nz\r\n\" style=\"fill:none;\"/>\r\n  </g>\r\n  <g id=\"axes_1\">\r\n   <g id=\"patch_2\">\r\n    <path d=\"M 10.7 224.64 \r\nL 345.5 224.64 \r\nL 345.5 7.2 \r\nL 10.7 7.2 \r\nz\r\n\" style=\"fill:#ffffff;\"/>\r\n   </g>\r\n   <g id=\"PathCollection_1\">\r\n    <defs>\r\n     <path d=\"M 0 3 \r\nC 0.795609 3 1.55874 2.683901 2.12132 2.12132 \r\nC 2.683901 1.55874 3 0.795609 3 0 \r\nC 3 -0.795609 2.683901 -1.55874 2.12132 -2.12132 \r\nC 1.55874 -2.683901 0.795609 -3 0 -3 \r\nC -0.795609 -3 -1.55874 -2.683901 -2.12132 -2.12132 \r\nC -2.683901 -1.55874 -3 -0.795609 -3 0 \r\nC -3 0.795609 -2.683901 1.55874 -2.12132 2.12132 \r\nC -1.55874 2.683901 -0.795609 3 0 3 \r\nz\r\n\" id=\"m5dc158def5\" style=\"stroke:#0000ff;\"/>\r\n    </defs>\r\n    <g clip-path=\"url(#p170e3fe385)\">\r\n     <use style=\"fill:#0000ff;stroke:#0000ff;\" x=\"309.739408\" xlink:href=\"#m5dc158def5\" y=\"53.231746\"/>\r\n     <use style=\"fill:#0000ff;stroke:#0000ff;\" x=\"164.48213\" xlink:href=\"#m5dc158def5\" y=\"162.383059\"/>\r\n     <use style=\"fill:#0000ff;stroke:#0000ff;\" x=\"177.192142\" xlink:href=\"#m5dc158def5\" y=\"149.107899\"/>\r\n     <use style=\"fill:#0000ff;stroke:#0000ff;\" x=\"180.823574\" xlink:href=\"#m5dc158def5\" y=\"117.395018\"/>\r\n     <use style=\"fill:#0000ff;stroke:#0000ff;\" x=\"300.660828\" xlink:href=\"#m5dc158def5\" y=\"56.181782\"/>\r\n     <use style=\"fill:#0000ff;stroke:#0000ff;\" x=\"286.1351\" xlink:href=\"#m5dc158def5\" y=\"205.158573\"/>\r\n     <use style=\"fill:#0000ff;stroke:#0000ff;\" x=\"124.536379\" xlink:href=\"#m5dc158def5\" y=\"183.770816\"/>\r\n     <use style=\"fill:#0000ff;stroke:#0000ff;\" x=\"73.696332\" xlink:href=\"#m5dc158def5\" y=\"214.746188\"/>\r\n     <use style=\"fill:#0000ff;stroke:#0000ff;\" x=\"104.563503\" xlink:href=\"#m5dc158def5\" y=\"138.045266\"/>\r\n     <use style=\"fill:#0000ff;stroke:#0000ff;\" x=\"193.533586\" xlink:href=\"#m5dc158def5\" y=\"89.369681\"/>\r\n     <use style=\"fill:#0000ff;stroke:#0000ff;\" x=\"297.029396\" xlink:href=\"#m5dc158def5\" y=\"73.881995\"/>\r\n     <use style=\"fill:#0000ff;stroke:#0000ff;\" x=\"99.116355\" xlink:href=\"#m5dc158def5\" y=\"178.608254\"/>\r\n     <use style=\"fill:#0000ff;stroke:#0000ff;\" x=\"184.455006\" xlink:href=\"#m5dc158def5\" y=\"163.858076\"/>\r\n     <use style=\"fill:#0000ff;stroke:#0000ff;\" x=\"97.300639\" xlink:href=\"#m5dc158def5\" y=\"133.620213\"/>\r\n     <use style=\"fill:#0000ff;stroke:#0000ff;\" x=\"108.194935\" xlink:href=\"#m5dc158def5\" y=\"157.220497\"/>\r\n     <use style=\"fill:#0000ff;stroke:#0000ff;\" x=\"175.376426\" xlink:href=\"#m5dc158def5\" y=\"196.308467\"/>\r\n     <use style=\"fill:#0000ff;stroke:#0000ff;\" x=\"315.186556\" xlink:href=\"#m5dc158def5\" y=\"17.093812\"/>\r\n     <use style=\"fill:#0000ff;stroke:#0000ff;\" x=\"110.010651\" xlink:href=\"#m5dc158def5\" y=\"176.395727\"/>\r\n     <use style=\"fill:#0000ff;stroke:#0000ff;\" x=\"70.0649\" xlink:href=\"#m5dc158def5\" y=\"110.757438\"/>\r\n     <use style=\"fill:#0000ff;stroke:#0000ff;\" x=\"113.642083\" xlink:href=\"#m5dc158def5\" y=\"197.045975\"/>\r\n     <use style=\"fill:#0000ff;stroke:#0000ff;\" x=\"258.899361\" xlink:href=\"#m5dc158def5\" y=\"118.132527\"/>\r\n     <use style=\"fill:#0000ff;stroke:#0000ff;\" x=\"64.617752\" xlink:href=\"#m5dc158def5\" y=\"192.620922\"/>\r\n     <use style=\"fill:#0000ff;stroke:#0000ff;\" x=\"168.113562\" xlink:href=\"#m5dc158def5\" y=\"209.583626\"/>\r\n     <use style=\"fill:#0000ff;stroke:#0000ff;\" x=\"126.352095\" xlink:href=\"#m5dc158def5\" y=\"198.520993\"/>\r\n     <use style=\"fill:#0000ff;stroke:#0000ff;\" x=\"41.013444\" xlink:href=\"#m5dc158def5\" y=\"210.321135\"/>\r\n     <use style=\"fill:#0000ff;stroke:#0000ff;\" x=\"198.980734\" xlink:href=\"#m5dc158def5\" y=\"114.444982\"/>\r\n     <use style=\"fill:#0000ff;stroke:#0000ff;\" x=\"139.062107\" xlink:href=\"#m5dc158def5\" y=\"169.020638\"/>\r\n     <use style=\"fill:#0000ff;stroke:#0000ff;\" x=\"139.062107\" xlink:href=\"#m5dc158def5\" y=\"148.37039\"/>\r\n     <use style=\"fill:#0000ff;stroke:#0000ff;\" x=\"231.663621\" xlink:href=\"#m5dc158def5\" y=\"83.46961\"/>\r\n     <use style=\"fill:#0000ff;stroke:#0000ff;\" x=\"42.82916\" xlink:href=\"#m5dc158def5\" y=\"203.683555\"/>\r\n    </g>\r\n   </g>\r\n   <g id=\"matplotlib.axis_1\"/>\r\n   <g id=\"matplotlib.axis_2\"/>\r\n   <g id=\"line2d_1\">\r\n    <path clip-path=\"url(#p170e3fe385)\" d=\"M 309.739408 73.289819 \r\nL 164.48213 133.156993 \r\nL 177.192142 127.918615 \r\nL 180.823574 126.421936 \r\nL 300.660828 77.031517 \r\nL 286.1351 83.018234 \r\nL 124.536379 149.620466 \r\nL 73.696332 170.573977 \r\nL 104.563503 157.852202 \r\nL 193.533586 121.183558 \r\nL 297.029396 78.528196 \r\nL 99.116355 160.097221 \r\nL 184.455006 124.925257 \r\nL 97.300639 160.845561 \r\nL 108.194935 156.355523 \r\nL 175.376426 128.666955 \r\nL 315.186556 71.0448 \r\nL 110.010651 155.607183 \r\nL 70.0649 172.070656 \r\nL 113.642083 154.110504 \r\nL 258.899361 94.24333 \r\nL 64.617752 174.315675 \r\nL 168.113562 131.660314 \r\nL 126.352095 148.872126 \r\nL 41.013444 184.044091 \r\nL 198.980734 118.938539 \r\nL 139.062107 143.633749 \r\nL 139.062107 143.633749 \r\nL 231.663621 105.468425 \r\nL 42.82916 183.295752 \r\n\" style=\"fill:none;stroke:#ff0000;stroke-linecap:square;stroke-width:3;\"/>\r\n   </g>\r\n   <g id=\"patch_3\">\r\n    <path d=\"M 10.7 224.64 \r\nL 10.7 7.2 \r\n\" style=\"fill:none;stroke:#000000;stroke-linecap:square;stroke-linejoin:miter;stroke-width:0.8;\"/>\r\n   </g>\r\n   <g id=\"patch_4\">\r\n    <path d=\"M 345.5 224.64 \r\nL 345.5 7.2 \r\n\" style=\"fill:none;stroke:#000000;stroke-linecap:square;stroke-linejoin:miter;stroke-width:0.8;\"/>\r\n   </g>\r\n   <g id=\"patch_5\">\r\n    <path d=\"M 10.7 224.64 \r\nL 345.5 224.64 \r\n\" style=\"fill:none;stroke:#000000;stroke-linecap:square;stroke-linejoin:miter;stroke-width:0.8;\"/>\r\n   </g>\r\n   <g id=\"patch_6\">\r\n    <path d=\"M 10.7 7.2 \r\nL 345.5 7.2 \r\n\" style=\"fill:none;stroke:#000000;stroke-linecap:square;stroke-linejoin:miter;stroke-width:0.8;\"/>\r\n   </g>\r\n  </g>\r\n </g>\r\n <defs>\r\n  <clipPath id=\"p170e3fe385\">\r\n   <rect height=\"217.44\" width=\"334.8\" x=\"10.7\" y=\"7.2\"/>\r\n  </clipPath>\r\n </defs>\r\n</svg>\r\n",
      "image/png": "[encoded data removed]"
     },
     "metadata": {}
    }
   ],
   "source": [
    "plt.scatter(X_test, y_test, color='blue')\n",
    "plt.plot(X_test, y_pred, color='red', linewidth=3)\n",
    "plt.xticks(())\n",
    "plt.yticks(())\n",
    "plt.show()"
   ]
  },
  {
   "cell_type": "code",
   "execution_count": null,
   "metadata": {},
   "outputs": [],
   "source": []
  }
 ],
 "metadata": {
  "kernelspec": {
   "display_name": "Python 3",
   "language": "python",
   "name": "python3"
  },
  "language_info": {
   "codemirror_mode": {
    "name": "ipython",
    "version": 3
   },
   "file_extension": ".py",
   "mimetype": "text/x-python",
   "name": "python",
   "nbconvert_exporter": "python",
   "pygments_lexer": "ipython3",
   "version": "3.7.4-final"
  }
 },
 "nbformat": 4,
 "nbformat_minor": 4
}