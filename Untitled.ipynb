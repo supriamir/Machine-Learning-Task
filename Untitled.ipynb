{
 "cells": [
  {
   "cell_type": "code",
   "execution_count": 2,
   "metadata": {},
   "outputs": [
    {
     "data": {
      "text/plain": [
       "<matplotlib.legend.Legend at 0x2275e445488>"
      ]
     },
     "execution_count": 2,
     "metadata": {},
     "output_type": "execute_result"
    },
    {
     "data": {
      "image/png": "[encoded data removed]",
      "text/plain": [
       "<Figure size 432x432 with 1 Axes>"
      ]
     },
     "metadata": {
      "needs_background": "light"
     },
     "output_type": "display_data"
    }
   ],
   "source": [
    "import numpy as np\n",
    "import matplotlib.pyplot as plt\n",
    "import seaborn as sns\n",
    "from sklearn import datasets\n",
    "\n",
    "\n",
    "iris = datasets.load_iris()\n",
    "X = iris.data[:, :2]\n",
    "y = (iris.target != 0)*1\n",
    "\n",
    "\n",
    "plt.figure(figsize=(6, 6))\n",
    "plt.scatter(X[y == 0][:, 0], X[y == 0][:, 1], color='g', label='0')\n",
    "plt.scatter(X[y == 1][:, 0], X[y == 1][:, 1], color='y', label='1')\n",
    "plt.legend()\n"
   ]
  },
  {
   "cell_type": "code",
   "execution_count": 10,
   "metadata": {},
   "outputs": [
    {
     "ename": "IndentationError",
     "evalue": "unindent does not match any outer indentation level (<tokenize>, line 19)",
     "output_type": "error",
     "traceback": [
      "\u001b[1;36m  File \u001b[1;32m\"<tokenize>\"\u001b[1;36m, line \u001b[1;32m19\u001b[0m\n\u001b[1;33m    self.theta = np.zeros(X.shape[1])\u001b[0m\n\u001b[1;37m    ^\u001b[0m\n\u001b[1;31mIndentationError\u001b[0m\u001b[1;31m:\u001b[0m unindent does not match any outer indentation level\n"
     ]
    }
   ],
   "source": [
    "class LogisticRegression:\n",
    "   def __init__(self, lr=0.01, num_iter=100000, fit_intercept=True, verbose=False):\n",
    "      self.lr = lr\n",
    "      self.num_iter = num_iter\n",
    "      self.fit_intercept = fit_intercept\n",
    "      self.verbose = verbose\n",
    "   def __add_intercept(self, X):\n",
    "      intercept = np.ones((X.shape[0], 1))\n",
    "      return np.concatenate((intercept, X), axis=1)\n",
    "   def __sigmoid(self, z):\n",
    "      return 1 / (1 + np.exp(-z))\n",
    "   def __loss(self, h, y):\n",
    "      return (-y * np.log(h) - (1 - y) * np.log(1 - h)).mean()\n",
    "   def fit(self, X, y):\n",
    "      if self.fit_intercept:\n",
    "         X = self.__add_intercept(X)\n",
    "\n",
    "            \n",
    "    self.theta = np.zeros(X.shape[1])\n",
    "    for i in range(self.num_iter):\n",
    "      z = np.dot(X, self.theta)\n",
    "      h = self.__sigmoid(z)\n",
    "      gradient = np.dot(X.T, (h - y)) / y.size\n",
    "      self.theta -= self.lr * gradient\n",
    "      z = np.dot(X, self.theta)\n",
    "      h = self.__sigmoid(z)\n",
    "      loss = self.__loss(h, y)\n",
    "      if(self.verbose ==True and i % 10000 == 0):\n",
    "         print(f'loss: {loss} \\t')"
   ]
  },
  {
   "cell_type": "code",
   "execution_count": null,
   "metadata": {},
   "outputs": [],
   "source": []
  },
  {
   "cell_type": "code",
   "execution_count": null,
   "metadata": {},
   "outputs": [],
   "source": []
  },
  {
   "cell_type": "code",
   "execution_count": null,
   "metadata": {},
   "outputs": [],
   "source": []
  }
 ],
 "metadata": {
  "kernelspec": {
   "display_name": "Python 3.7.4 64-bit",
   "language": "python",
   "name": "python37464bitcfebbe6127db468d94a930ebfc8da9aa"
  },
  "language_info": {
   "codemirror_mode": {
    "name": "ipython",
    "version": 3
   },
   "file_extension": ".py",
   "mimetype": "text/x-python",
   "name": "python",
   "nbconvert_exporter": "python",
   "pygments_lexer": "ipython3",
   "version": "3.7.4"
  }
 },
 "nbformat": 4,
 "nbformat_minor": 4
}
